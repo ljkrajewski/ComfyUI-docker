{
  "nbformat": 4,
  "nbformat_minor": 0,
  "metadata": {
    "colab": {
      "provenance": [],
      "authorship_tag": "ABX9TyPSUbE0lDol8vs953EZweiP",
      "include_colab_link": true
    },
    "kernelspec": {
      "name": "python3",
      "display_name": "Python 3"
    },
    "language_info": {
      "name": "python"
    }
  },
  "cells": [
    {
      "cell_type": "markdown",
      "metadata": {
        "id": "view-in-github",
        "colab_type": "text"
      },
      "source": [
        "<a href=\"https://colab.research.google.com/github/ljkrajewski/ComfyUI-docker/blob/main/xterm_w_github.ipynb\" target=\"_parent\"><img src=\"https://colab.research.google.com/assets/colab-badge.svg\" alt=\"Open In Colab\"/></a>"
      ]
    },
    {
      "cell_type": "markdown",
      "source": [
        "# *Protip*: Don't use 'Run All.' Run each cell as needed."
      ],
      "metadata": {
        "id": "QU5LzyS0F4gW"
      }
    },
    {
      "cell_type": "code",
      "source": [
        "#@title Create SSH key & known hosts file (for github if you're working on a repo)\n",
        "#@markdown Copy the public key below to the SSH key settings in Github.\n",
        "\n",
        "!git config --global user.email \"leo.krajewski@aol.com\"\n",
        "!git config --global user.name \"Leo Krajewski\"\n",
        "!mkdir ~/.ssh\n",
        "!ssh-keygen -q -t ed25519 -N '' -f ~/.ssh/id_ed25519 <<<y >/dev/null 2>&1\n",
        "!ssh-keyscan -H github.com > ~/.ssh/known_hosts 2> /dev/null\n",
        "!chmod 600 ~/.ssh/known_hosts\n",
        "!cat ~/.ssh/id_ed25519.pub"
      ],
      "metadata": {
        "id": "JsSSudariK24",
        "cellView": "form"
      },
      "execution_count": null,
      "outputs": []
    },
    {
      "cell_type": "markdown",
      "source": [
        "# <font color=\"red\" align=\"center\">=== STOP HERE!!! ===</font> <br><hr> You ***must*** have your SSH public key (from above) pasted into [Github](https://github.com/settings/keys) before you continue."
      ],
      "metadata": {
        "id": "xvmKDKsXSmmi"
      }
    },
    {
      "cell_type": "code",
      "source": [
        "#@title Clone Git repos (skip if you don't need this)\n",
        "\n",
        "#@markdown Enter the repo you want to clone.\n",
        "git_repo = \"git@github.com:ljkrajewski/comfyui-flux_runpod.git\" #@param {type:\"string\"}\n",
        "!git clone $git_repo\n",
        "\n",
        "#@markdown Edit this cell to install any needed packages.\n",
        "!apt install python3.10-venv\n",
        "!pip3 install pipx\n",
        "!pipx ensurepath\n",
        "!pipx install ghunt"
      ],
      "metadata": {
        "id": "qctK-6gYN_7O",
        "cellView": "form"
      },
      "execution_count": null,
      "outputs": []
    },
    {
      "cell_type": "code",
      "source": [
        "#@title Uploading files from your local file system (skip if you don't need this)\n",
        "from google.colab import files\n",
        "\n",
        "uploaded = files.upload()\n",
        "\n",
        "for fn in uploaded.keys():\n",
        "  print('User uploaded file \"{name}\" with length {length} bytes'.format(\n",
        "      name=fn, length=len(uploaded[fn])))"
      ],
      "metadata": {
        "cellView": "form",
        "id": "NZxF6BaQGn4d"
      },
      "execution_count": null,
      "outputs": []
    },
    {
      "cell_type": "code",
      "source": [
        "#@title Install and start xterm\n",
        "\n",
        "!pip install colab-xterm #https://pypi.org/project/colab-xterm/\n",
        "%load_ext colabxterm\n",
        "%xterm"
      ],
      "metadata": {
        "id": "i_tM4dUjhE9C",
        "cellView": "form"
      },
      "execution_count": null,
      "outputs": []
    }
  ]
}